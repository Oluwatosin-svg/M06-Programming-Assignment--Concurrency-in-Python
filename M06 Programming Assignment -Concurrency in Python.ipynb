{
 "cells": [
  {
   "cell_type": "code",
   "execution_count": 11,
   "id": "15c9d069",
   "metadata": {},
   "outputs": [],
   "source": []
  },
  {
   "cell_type": "code",
   "execution_count": 30,
   "id": "71769ed4",
   "metadata": {},
   "outputs": [
    {
     "name": "stdout",
     "output_type": "stream",
     "text": [
      "7-16-2022\n"
     ]
    }
   ],
   "source": [
    "#13.1\n",
    "#13.2\n",
    "import time\n",
    "#open text file in read mode\n",
    "today_string = open(r\"C:\\Users\\idowu\\Documents\\IUPUI\\Summer 2022\\SDEV-220\\today.txt\")\n",
    " \n",
    "#read whole file to a string\n",
    "data = today_string.read()\n",
    "  \n",
    "print(data)"
   ]
  },
  {
   "cell_type": "code",
   "execution_count": 32,
   "id": "2f2e84fd",
   "metadata": {},
   "outputs": [
    {
     "data": {
      "text/plain": [
       "time.struct_time(tm_year=2022, tm_mon=7, tm_mday=16, tm_hour=0, tm_min=0, tm_sec=0, tm_wday=5, tm_yday=197, tm_isdst=-1)"
      ]
     },
     "execution_count": 32,
     "metadata": {},
     "output_type": "execute_result"
    }
   ],
   "source": [
    "import time\n",
    "today_string = \"%m-%d-%Y\"\n",
    "time.strptime(\"7-16-2022\", today_string)"
   ]
  },
  {
   "cell_type": "code",
   "execution_count": null,
   "id": "91229339",
   "metadata": {},
   "outputs": [],
   "source": []
  }
 ],
 "metadata": {
  "kernelspec": {
   "display_name": "Python 3 (ipykernel)",
   "language": "python",
   "name": "python3"
  },
  "language_info": {
   "codemirror_mode": {
    "name": "ipython",
    "version": 3
   },
   "file_extension": ".py",
   "mimetype": "text/x-python",
   "name": "python",
   "nbconvert_exporter": "python",
   "pygments_lexer": "ipython3",
   "version": "3.9.7"
  }
 },
 "nbformat": 4,
 "nbformat_minor": 5
}
